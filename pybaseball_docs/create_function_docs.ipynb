{
 "cells": [
  {
   "cell_type": "code",
   "execution_count": 1,
   "id": "191ee41a-885e-46d1-9e48-4ec6b425f92d",
   "metadata": {
    "tags": []
   },
   "outputs": [],
   "source": [
    "import json\n",
    "\n",
    "import data_dictionary as dd\n",
    "\n",
    "# initiate empty dictionary\n",
    "functions_dict = {}"
   ]
  },
  {
   "cell_type": "code",
   "execution_count": 2,
   "id": "c19051ed-7a2f-46c7-b899-735faa28ce7d",
   "metadata": {
    "tags": []
   },
   "outputs": [],
   "source": [
    "function = 'statcast'\n",
    "docs = '''# Statcast\n",
    "`statcast(start_dt=[yesterday's date], end_dt=None, team=None, verbose=True, parallel=True)`\n",
    "\n",
    "The `statcast` function retrieves pitch-level statcast data for a given date or range or dates. \n",
    "\n",
    "## Returned data\n",
    "This function returns a pandas `DataFrame` with one entry for each pitch in the\n",
    "query. The data returned for each pitch is explained on\n",
    "[Baseball Savant](https://baseballsavant.mlb.com/csv-docs).\n",
    "\n",
    "## Arguments\n",
    "`start_dt:` first day for which you want to retrieve data. Defaults to yesterday's date if nothing is entered. If you only want data for one date, supply a `start_dt` value but not an `end_dt` value. Format: YYYY-MM-DD. \n",
    "\n",
    "`end_dt:` last day for which you want to retrieve data. Defaults to None. If you want to retrieve data for more than one day, both a `start_dt` and `end_dt` value must be given. Format: YYYY-MM-DD. \n",
    "\n",
    "`team:` optional. If you only want statcast data for one team, supply that team's abbreviation here (i.e. BOS, SEA, NYY, etc).\n",
    "\n",
    "`verbose:` Boolean, default=True. If set to True this will provide updates on query progress, if set to False it will not. \n",
    "\n",
    "`parallel:` Boolean, default=True. Whether to parallelize HTTP requests in large queries.\n",
    "\n",
    "### A note on data availability \n",
    "The earliest available statcast data comes from the 2008 season when the system was first introduced to Major League Baseball. Queries before this year will not work. Further, some features were introduced after the 2008 season. Launch speed angle, for example, is only available from the 2015 season forward. \n",
    "\n",
    "### A note on query time\n",
    "Baseball savant limits queries to 30000 rows each. For this reason, if your request is for a period of greater than 5 days, it will be broken into two or more smaller requests. The data will still be returned to you in a single dataframe, but it will take slightly longer. \n",
    "\n",
    "### A note on parallelization\n",
    "Large queries with requests made in parallel complete substantially faster. This option exists to accommodate compute environments where multiprocessing is disabled (e.g. some AWS Lambda environments).\n",
    "\n",
    "## Examples of valid queries\n",
    "\n",
    "```python\n",
    "from pybaseball import statcast\n",
    "\n",
    "# get all statcast data for July 4th, 2017\n",
    "data = statcast('2017-07-04')\n",
    "\n",
    "#get data for the first seven days of August in 2016\n",
    "data = statcast('2016-08-01', '2016-08-07')\n",
    "\n",
    "#get all data for the Texas Rangers in the 2016 season\n",
    "data = statcast('2016-04-01', '2016-10-30', team='TEX')\n",
    "\n",
    "# get data for yesterday\n",
    "data = statcast()```\n",
    "'''\n",
    "\n",
    "data_dictionary = dd.statcast\n",
    "\n",
    "functions_dict[function] = {'docs':docs, 'data_dictionary':data_dictionary}\n"
   ]
  },
  {
   "cell_type": "code",
   "execution_count": 3,
   "id": "f3957420-ce97-47ff-bce7-93daf472aa8a",
   "metadata": {
    "tags": []
   },
   "outputs": [],
   "source": [
    "function = 'statcast_pitcher'\n",
    "docs = '''# Statcast Pitcher\n",
    "`statcast_pitcher(start_dt=[yesterday's date], end_dt=None, player_id)`\n",
    "\n",
    "The statcast function retrieves pitch-level statcast data for a given date or range or dates. \n",
    "\n",
    "## Arguments\n",
    "`start_dt:` first day for which you want to retrieve data. Defaults to yesterday's date if nothing is entered. If you only want data for one date, supply a `start_dt` value but not an `end_dt` value. Format: YYYY-MM-DD. \n",
    "\n",
    "`end_dt:` last day for which you want to retrieve data. Defaults to None. If you want to retrieve data for more than one day, both a `start_dt` and `end_dt` value must be given. Format: YYYY-MM-DD. \n",
    "\n",
    "`player_id:` MLBAM player ID for the pitcher you want to retrieve data for. To find a player's MLBAM ID, see the function [playerid_lookup](http://github.com/jldbc/pybaseball/docs/playerid_lookup.md) or the examples below. \n",
    "\n",
    "### A note on data availability \n",
    "The earliest available statcast data comes from the 2008 season when the system was first introduced to Major League Baseball. Queries before this year will not work. Further, some features were introduced after the 2008 season. Launch speed angle, for example, is only available from the 2015 season forward. \n",
    "\n",
    "### Known issue\n",
    "In rare cases where a player has seen greater than 30,000 pitches over the time period specified in your query, only the first 30,000 of these plays will be returned. There is a fix in the works for this\n",
    "\n",
    "## Examples of valid queries\n",
    "\n",
    "```python\n",
    "from pybaseball import statcast_pitcher\n",
    "from pybaseball import playerid_lookup\n",
    "\n",
    "# find Chris Sale's player id (mlbam_key)\n",
    "playerid_lookup('sale','chris')\n",
    "\n",
    "# get all available data\n",
    "data = statcast_pitcher('2008-04-01', '2017-07-15', player_id = 519242)\n",
    "\n",
    "# get data for July 15th, 2017\n",
    "data = statcast_pitcher('2017-07-15','2017-07-15', player_id = 519242)\n",
    "```'''\n",
    "\n",
    "data_dictionary = dd.statcast\n",
    "\n",
    "functions_dict[function] = {'docs':docs, 'data_dictionary':data_dictionary}"
   ]
  },
  {
   "cell_type": "code",
   "execution_count": 4,
   "id": "3f18da75-6e3f-4839-a581-0d0113ef7a12",
   "metadata": {
    "tags": []
   },
   "outputs": [],
   "source": [
    "function = 'statcast_batter'\n",
    "docs = '''# Statcast Batter\n",
    "`statcast_batter(start_dt=[yesterday's date], end_dt=None, player_id)`\n",
    "\n",
    "The statcast function retrieves pitch-level statcast data for a given date or range or dates. \n",
    "\n",
    "## Arguments\n",
    "`start_dt:` first day for which you want to retrieve data. Defaults to yesterday's date if nothing is entered. If you only want data for one date, supply a `start_dt` value but not an `end_dt` value. Format: YYYY-MM-DD. \n",
    "\n",
    "`end_dt:` last day for which you want to retrieve data. Defaults to None. If you want to retrieve data for more than one day, both a `start_dt` and `end_dt` value must be given. Format: YYYY-MM-DD. \n",
    "\n",
    "`player_id:` MLBAM player ID for the player you want to retrieve data for. To find a player's MLBAM ID, see the function [playerid_lookup](http://github.com/jldbc/pybaseball/docs/playerid_lookup.md) or the examples below. \n",
    "\n",
    "### A note on data availability \n",
    "The earliest available statcast data comes from the 2008 season when the system was first introduced to Major League Baseball. Queries before this year will not work. Further, some features were introduced after the 2008 season. Launch speed angle, for example, is only available from the 2015 season forward. \n",
    "\n",
    "## Examples of valid queries\n",
    "\n",
    "```python\n",
    "from pybaseball import statcast_batter\n",
    "from pybaseball import playerid_lookup\n",
    "\n",
    "# find David Ortiz's player id (mlbam_key)\n",
    "playerid_lookup('ortiz','david')\n",
    "\n",
    "# get all available data\n",
    "data = statcast_batter('2008-04-01', '2017-07-15', player_id = 120074)\n",
    "\n",
    "# get data for August 16th, 2014\n",
    "data = statcast_batter('2014-08-16', player_id = 120074)\n",
    "```\n",
    "'''\n",
    "\n",
    "data_dictionary = dd.statcast\n",
    "\n",
    "functions_dict[function] = {'docs':docs, 'data_dictionary':data_dictionary}"
   ]
  },
  {
   "cell_type": "code",
   "execution_count": 5,
   "id": "3da0d7bb-3195-4dc5-a070-9ab22249240c",
   "metadata": {
    "tags": []
   },
   "outputs": [],
   "source": [
    "function = 'playerid_lookup'\n",
    "docs = '''# Player ID Lookup\n",
    "\n",
    "## Single Player Lookup\n",
    "\n",
    "`playerid_lookup(last, first=None, fuzzy=False)`\n",
    "\n",
    "Look up a player's MLBAM, Retrosheet, FanGraphs, and Baseball Reference ID by name.\n",
    "\n",
    "## Arguments\n",
    "`last:` String. The player's last name. Case insensitive.\n",
    "\n",
    "`first:` String. Optional. The player's first name. Case insensitive.\n",
    "\n",
    "`fuzzy:` Boolean. Optional. Search for inexact name matches, the 5 closest will be returned.\n",
    "\n",
    "Providing last name only will return all available id data for players with that last name (this will return several rows for a common last name like Jones, for example.) If multiple players exist for a (last name, first name) pair, you can figure out who's who by seeing their first and last years of play in the fields `mlb_played_first` and `mlb_played_last`.\n",
    "\n",
    "This data comes from Chadwick Bureau, meaning that there are several people in this data who are not MLB players. For this reason, supplying both last and first name is recommended to narrow your search. \n",
    "\n",
    "## Examples of valid queries\n",
    "\n",
    "```python\n",
    "from pybaseball import playerid_lookup\n",
    "\n",
    "# find the ids of all players with last name Jones (returns 1,314 rows)\n",
    "data = playerid_lookup('jones')\n",
    "\n",
    "# only return the ids of chipper jones (returns one row)\n",
    "data = playerid_lookup('jones','chipper')\n",
    "\n",
    "# Will return all players named Pedro Martinez (returns *2* rows)\n",
    "data = playerid_lookup(\"martinez\", \"pedro\", fuzzy=True)\n",
    "\n",
    "# Will return the 5 closest names to \"yadi molina\" (returns 5 rows)\n",
    "# First row will be Yadier Molina\n",
    "data = playerid_lookup(\"molina\", \"yadi\", fuzzy=True)\n",
    "```\n",
    "\n",
    "## List Lookup\n",
    "\n",
    "`player_search_list(player_list)`\n",
    "\n",
    "Look up a list of player ID's by name, return a data frame of all players\n",
    "\n",
    "`player_list:` List. A list of tuples, of the form `(last, first)`. Case Insensitive.\n",
    "\n",
    "Sources are the same as those used in the above `playerid_lookup` function. Queries for this function must be exact name matches.\n",
    "\n",
    "## Examples of valid queries\n",
    "\n",
    "```python\n",
    "\n",
    "from pybaseball import player_search_list\n",
    "\n",
    "# Will return the ids for both Lou Brock and Chipper Jones (returns 2 rows)\n",
    "data = player_search_list([(\"brock\",\"lou\"), (\"jones\",\"chipper\")])\n",
    "\n",
    "```'''\n",
    "\n",
    "data_dictionary = dd.player_id_lookup\n",
    "\n",
    "functions_dict[function] = {'docs':docs, 'data_dictionary':data_dictionary}"
   ]
  },
  {
   "cell_type": "code",
   "execution_count": 6,
   "id": "fdff05e0-8690-45d1-b2cf-606497a9ac44",
   "metadata": {
    "tags": []
   },
   "outputs": [],
   "source": [
    "function = 'schedule_and_record'\n",
    "docs = '''# Schedule and Record\n",
    "\n",
    "`schedule_and_record(season, team)`\n",
    "\n",
    "The schedule_and_record function returns a dataframe of a team's game-level results for a given season, including win/loss/tie result, score, attendance, and winning/losing/saving pitcher. If the season is incomplete, it will provide scheduling information for future games. \n",
    "\n",
    "## Arguments\n",
    "`season:` Integer. The season for which you want a team's record data. \n",
    "\n",
    "`team:` String. The abbreviation of the team for which you are requesting data (e.g. \"PHI\", \"BOS\", \"LAD\"). \n",
    "\n",
    "Note that if a team did not exist during the year you are requesting data for, the query will be unsuccessful. Historical name and city changes for teams in older seasons can cause some problems as well. The Los Angeles Dodgers (\"LAD\"), for example, are abbreviated \"BRO\" in older seasons, due to their origins as the Brooklyn Dodgers. This may at times require some detective work in certain cases.   \n",
    "\n",
    "## Examples of valid queries\n",
    "\n",
    "```python\n",
    "from pybaseball import schedule_and_record\n",
    "\n",
    "# Game-by-game results from the Yankees' 1927 season\n",
    "data = schedule_and_record(1927, \"NYY\")\n",
    "\n",
    "# Results and upcoming schedule for the Phillies' current season (2017 at the time of writing)\n",
    "data = schedule_and_record(2017, \"PHI\")\n",
    "```\n",
    "'''\n",
    "\n",
    "data_dictionary = dd.schedule_and_record\n",
    "\n",
    "functions_dict[function] = {'docs':docs, 'data_dictionary':data_dictionary}"
   ]
  },
  {
   "cell_type": "code",
   "execution_count": 7,
   "id": "b93efaca-4f2b-46c8-91b9-0015aae7e09b",
   "metadata": {
    "tags": []
   },
   "outputs": [],
   "source": [
    "function = 'standings'\n",
    "docs = '''# Standings\n",
    "\n",
    "`standings(season)`\n",
    "\n",
    "he standings(season) function gives division standings for a given season. If the current season is chosen, \n",
    "it will give the most current set of standings. Otherwise, it will give the end-of-season standings for each \n",
    "division for the chosen season. This function returns a list of dataframes. Each dataframe is the standings for one of MLB's six divisions.\n",
    "\n",
    "## Arguments\n",
    "`season:` Integer. Defaults to the current calendar year if no value is provided. \n",
    "\n",
    "## Examples of valid queries\n",
    "\n",
    "```python\n",
    "from pybaseball import standings\n",
    "\n",
    "# get the current season's up-to-date standings\n",
    "data = standings()\n",
    "\n",
    "# get the end-of-season division standings for the 1980 season\n",
    "data = standings(1980)\n",
    "```\n",
    "'''\n",
    "\n",
    "data_dictionary = dd.standings\n",
    "\n",
    "functions_dict[function] = {'docs':docs, 'data_dictionary':data_dictionary}"
   ]
  },
  {
   "cell_type": "code",
   "execution_count": 8,
   "id": "dbaff831",
   "metadata": {},
   "outputs": [],
   "source": [
    "function = 'playerid_reverse_lookup'\n",
    "docs = '''# Player ID Reverse Lookup\n",
    "\n",
    "`playerid_reverse_lookup(player_ids, key_type='mlbam')`\n",
    "\n",
    "Find the names and ids of one or several players given a list of MLBAM, FanGraphs, Baseball Reference, or Retrosheet ids. \n",
    "\n",
    "## Arguments\n",
    "`player_ids:` List. A list of player ids.\n",
    "\n",
    "`key_type:` String. The type of id you're passing in the `player_ids` field. Valid inputs are 'mlbam', 'retro', 'bbref', and 'fangraphs'. Defaults to 'mlbam' if no value is passed. \n",
    " \n",
    "This function is useful for connecting data sets from various sources or for finding player names when only an id is provided. Data for this function comes from the Chadwick Bureau. \n",
    "\n",
    "## Examples of valid queries\n",
    "\n",
    "```python\n",
    "from pybaseball import playerid_reverse_lookup\n",
    "\n",
    "# a list of mlbam ids\n",
    "player_ids = [116539, 116541, 641728, 116540]\n",
    "\n",
    "# find the names of the players in player_ids, along with their ids from other data sources\n",
    "data = playerid_reverse_lookup(player_ids, key_type='mlbam')\n",
    "\n",
    "# a list of fangraphs ids\n",
    "fg_ids = [826, 5417, 210, 1101]\n",
    "\n",
    "# find their names and ids from other data sources\n",
    "data = playerid_reverse_lookup(fg_ids, key_type='fangraphs')\n",
    "'''\n",
    "\n",
    "data_dictionary = dd.playerid_reverse_lookup\n",
    "\n",
    "functions_dict[function] = {'docs':docs, 'data_dictionary':data_dictionary}"
   ]
  },
  {
   "cell_type": "code",
   "execution_count": 9,
   "id": "c3daae29-44c6-48dc-893e-fd8a48df04e0",
   "metadata": {
    "tags": []
   },
   "outputs": [
    {
     "data": {
      "text/plain": [
       "{'docs': \"# Player ID Reverse Lookup\\n\\n`playerid_reverse_lookup(player_ids, key_type='mlbam')`\\n\\nFind the names and ids of one or several players given a list of MLBAM, FanGraphs, Baseball Reference, or Retrosheet ids. \\n\\n## Arguments\\n`player_ids:` List. A list of player ids.\\n\\n`key_type:` String. The type of id you're passing in the `player_ids` field. Valid inputs are 'mlbam', 'retro', 'bbref', and 'fangraphs'. Defaults to 'mlbam' if no value is passed. \\n \\nThis function is useful for connecting data sets from various sources or for finding player names when only an id is provided. Data for this function comes from the Chadwick Bureau. \\n\\n## Examples of valid queries\\n\\n```python\\nfrom pybaseball import playerid_reverse_lookup\\n\\n# a list of mlbam ids\\nplayer_ids = [116539, 116541, 641728, 116540]\\n\\n# find the names of the players in player_ids, along with their ids from other data sources\\ndata = playerid_reverse_lookup(player_ids, key_type='mlbam')\\n\\n# a list of fangraphs ids\\nfg_ids = [826, 5417, 210, 1101]\\n\\n# find their names and ids from other data sources\\ndata = playerid_reverse_lookup(fg_ids, key_type='fangraphs')\\n\",\n",
       " 'data_dictionary': 'name_last\\nname_first\\nkey_mlbam\\nkey_retro\\nkey_bbref\\nkey_fangraphs\\nmlb_played_first\\nmlb_played_last'}"
      ]
     },
     "execution_count": 9,
     "metadata": {},
     "output_type": "execute_result"
    }
   ],
   "source": [
    "functions_dict[function]"
   ]
  },
  {
   "cell_type": "code",
   "execution_count": 10,
   "id": "d33806f7-ce08-42e6-a881-245afddecd36",
   "metadata": {
    "tags": []
   },
   "outputs": [],
   "source": [
    "# write to disk\n",
    "file_path = 'functions.json'\n",
    "with open(file_path, 'w') as file:\n",
    "    json.dump(functions_dict, file)"
   ]
  },
  {
   "cell_type": "code",
   "execution_count": 11,
   "id": "d2097690-89bd-4f57-a00e-e74051bb9f99",
   "metadata": {},
   "outputs": [],
   "source": [
    "# read from disk\n",
    "with open(file_path, 'r') as file:\n",
    "    loaded_dict = json.load(file)"
   ]
  },
  {
   "cell_type": "code",
   "execution_count": 12,
   "id": "189d764a",
   "metadata": {},
   "outputs": [
    {
     "data": {
      "text/plain": [
       "{'docs': \"# Player ID Reverse Lookup\\n\\n`playerid_reverse_lookup(player_ids, key_type='mlbam')`\\n\\nFind the names and ids of one or several players given a list of MLBAM, FanGraphs, Baseball Reference, or Retrosheet ids. \\n\\n## Arguments\\n`player_ids:` List. A list of player ids.\\n\\n`key_type:` String. The type of id you're passing in the `player_ids` field. Valid inputs are 'mlbam', 'retro', 'bbref', and 'fangraphs'. Defaults to 'mlbam' if no value is passed. \\n \\nThis function is useful for connecting data sets from various sources or for finding player names when only an id is provided. Data for this function comes from the Chadwick Bureau. \\n\\n## Examples of valid queries\\n\\n```python\\nfrom pybaseball import playerid_reverse_lookup\\n\\n# a list of mlbam ids\\nplayer_ids = [116539, 116541, 641728, 116540]\\n\\n# find the names of the players in player_ids, along with their ids from other data sources\\ndata = playerid_reverse_lookup(player_ids, key_type='mlbam')\\n\\n# a list of fangraphs ids\\nfg_ids = [826, 5417, 210, 1101]\\n\\n# find their names and ids from other data sources\\ndata = playerid_reverse_lookup(fg_ids, key_type='fangraphs')\\n\",\n",
       " 'data_dictionary': 'name_last\\nname_first\\nkey_mlbam\\nkey_retro\\nkey_bbref\\nkey_fangraphs\\nmlb_played_first\\nmlb_played_last'}"
      ]
     },
     "execution_count": 12,
     "metadata": {},
     "output_type": "execute_result"
    }
   ],
   "source": [
    "functions_dict[function]"
   ]
  }
 ],
 "metadata": {
  "kernelspec": {
   "display_name": "venv",
   "language": "python",
   "name": "python3"
  },
  "language_info": {
   "codemirror_mode": {
    "name": "ipython",
    "version": 3
   },
   "file_extension": ".py",
   "mimetype": "text/x-python",
   "name": "python",
   "nbconvert_exporter": "python",
   "pygments_lexer": "ipython3",
   "version": "3.10.8"
  }
 },
 "nbformat": 4,
 "nbformat_minor": 5
}
