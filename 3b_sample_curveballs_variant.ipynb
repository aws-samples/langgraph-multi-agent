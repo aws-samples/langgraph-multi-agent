{
 "cells": [
  {
   "cell_type": "code",
   "execution_count": 1,
   "id": "7c01b355-66d2-40e0-92a4-c4553a8d2edd",
   "metadata": {
    "tags": []
   },
   "outputs": [
    {
     "name": "stderr",
     "output_type": "stream",
     "text": [
      "/Users/rosclay/Documents/VSCode/langgraph-multi-agent/venv/lib/python3.10/site-packages/langchain_core/_api/beta_decorator.py:87: LangChainBetaWarning: The function `bind_tools` is in beta. It is actively being worked on, so the API may change.\n",
      "  warn_beta(\n",
      "Python REPL can execute arbitrary code. Use with caution.\n"
     ]
    }
   ],
   "source": [
    "# general\n",
    "from datetime import datetime\n",
    "from dotenv import load_dotenv, find_dotenv\n",
    "import os\n",
    "\n",
    "# custom local libs\n",
    "from function import baseball_lambda"
   ]
  },
  {
   "cell_type": "code",
   "execution_count": 2,
   "id": "7a2a54ab",
   "metadata": {},
   "outputs": [],
   "source": [
    "# read local .env file\n",
    "_ = load_dotenv(find_dotenv()) "
   ]
  },
  {
   "cell_type": "code",
   "execution_count": 3,
   "id": "12b6af87",
   "metadata": {},
   "outputs": [],
   "source": [
    "# set Langsmith project\n",
    "today = datetime.now().strftime(\"%Y%m%d\")\n",
    "os.environ[\"LANGCHAIN_PROJECT\"] = f\"Baseball Curveballs - {today}\""
   ]
  },
  {
   "cell_type": "code",
   "execution_count": 4,
   "id": "6bf9b046",
   "metadata": {},
   "outputs": [],
   "source": [
    "session_id = '88241'"
   ]
  },
  {
   "cell_type": "code",
   "execution_count": 5,
   "id": "483dc6f3",
   "metadata": {},
   "outputs": [
    {
     "name": "stdout",
     "output_type": "stream",
     "text": [
      "\n",
      "*** Entered Orchestrate Node ***\n",
      "\n",
      "*** Entered Retrieve Node ***\n",
      "\n",
      "Distance to neareast plan: 0.4574\n",
      "\n",
      "*** Entered Modify Node ***\n",
      "\n",
      "Modifying nearest plan with User input\n",
      "Here is the updated plan to find the 3 pitchers whose changeups were most similar to Justin Verlander's during the first week of June 2019:\n",
      "\n",
      "1. Retrieve Justin Verlander's MLBAM ID\n",
      "2. Retrieve all changeups thrown by pitchers between 2019-06-01 and 2019-06-07 \n",
      "3. Create a dataframe with key changeup metrics for each pitcher (e.g. velocity, spin rate, movement, release extension)\n",
      "4. Scale the changeup metric data and calculate Verlander's average changeup metrics\n",
      "5. Train a KNeighborsClassifier model on the changeup metrics to find the 3 pitchers with changeup metrics closest to Verlander's\n",
      "6. Retrieve the names of those 3 pitchers with the most similar changeups to Verlander's\n",
      "\n",
      "This updated plan follows the same overall approach as the original, but focuses on changeups instead of curveballs and uses the June 2019 time period and Justin Verlander as the reference pitcher.\n"
     ]
    }
   ],
   "source": [
    "task = \"Consider the first week of June 2019 - find 3 pitchers who's changeups were most similar to Justin Verlander's\"\n",
    "result = baseball_lambda.execute_workflow(task, session_id)\n",
    "print(result)"
   ]
  },
  {
   "cell_type": "code",
   "execution_count": 6,
   "id": "4d6b35ae",
   "metadata": {},
   "outputs": [
    {
     "name": "stdout",
     "output_type": "stream",
     "text": [
      "\n",
      "*** Entered Orchestrate Node ***\n",
      "Known plan. Executing with Sonnet\n",
      "\n",
      "*** Entered Generate Node ***\n",
      "\n",
      "\n",
      "*** Entered Execute Node ***\n",
      "\n",
      "\n",
      "Executing:\n",
      "# Import necessary libraries\n",
      "from pybaseball import playerid_lookup, statcast, playerid_reverse_lookup\n",
      "import pandas as pd\n",
      "from sklearn.preprocessing import StandardScaler\n",
      "from sklearn.neighbors import NearestNeighbors\n",
      "\n",
      "# Step 1: Retrieve Justin Verlander's MLBAM ID\n",
      "verlander_id = playerid_lookup('Verlander', 'Justin')['key_mlbam'][0]\n",
      "print(f\"Justin Verlander's MLBAM ID is: {verlander_id}\")\n",
      "\n",
      "Result:\n",
      "Gathering player lookup table. This may take a moment.\n",
      "Justin Verlander's MLBAM ID is: 434378\n",
      "\n",
      "\n",
      "*** Entered Generate Node ***\n",
      "\n"
     ]
    },
    {
     "name": "stderr",
     "output_type": "stream",
     "text": [
      "  0%|          | 0/7 [00:00<?, ?it/s]"
     ]
    },
    {
     "name": "stdout",
     "output_type": "stream",
     "text": [
      "\n",
      "*** Entered Execute Node ***\n",
      "\n",
      "\n",
      "Executing:\n",
      "# Step 2: Retrieve all changeups between 2019-06-01 and 2019-06-07\n",
      "changeups = statcast('2019-06-01', '2019-06-07', team=None)\n",
      "changeups = changeups.loc[changeups['pitch_type'] == 'CH']\n",
      "print(f\"Retrieved {len(changeups)} changeups between 2019-06-01 and 2019-06-07\")\n"
     ]
    },
    {
     "name": "stderr",
     "output_type": "stream",
     "text": [
      "100%|██████████| 7/7 [00:11<00:00,  1.67s/it]\n"
     ]
    },
    {
     "name": "stdout",
     "output_type": "stream",
     "text": [
      "\n",
      "Result:\n",
      "This is a large query, it may take a moment to complete\n",
      "Retrieved 3020 changeups between 2019-06-01 and 2019-06-07\n",
      "\n",
      "\n",
      "*** Entered Generate Node ***\n",
      "\n",
      "\n",
      "*** Entered Execute Node ***\n",
      "\n",
      "\n",
      "Executing:\n",
      "# Step 3: Create dataframe with changeup metrics\n",
      "metrics = ['release_speed', 'release_spin_rate', 'release_pos_x', \n",
      "           'release_pos_z', 'pfx_x', 'pfx_z', 'release_extension']\n",
      "\n",
      "pitcher_avgs = changeups.groupby('pitcher')[metrics].mean()\n",
      "\n",
      "print(f\"Created dataframe with changeup averages for {len(pitcher_avgs)} pitchers\")\n",
      "\n",
      "Result:\n",
      "Created dataframe with changeup averages for 253 pitchers\n",
      "\n",
      "\n",
      "*** Entered Generate Node ***\n",
      "\n",
      "\n",
      "*** Entered Execute Node ***\n",
      "\n",
      "\n",
      "Executing:\n",
      "# Step 4: Scale data and calculate Verlander's averages\n",
      "scaler = StandardScaler()\n",
      "scaled_data = scaler.fit_transform(pitcher_avgs)\n",
      "\n",
      "verlander_avgs = pitcher_avgs.loc[verlander_id]\n",
      "verlander_scaled = scaler.transform(verlander_avgs.values.reshape(1,-1))\n",
      "\n",
      "*** Entered Generate Node ***\n",
      "\n",
      "\n",
      "*** Entered Execute Node ***\n",
      "\n",
      "\n",
      "Executing:\n",
      "# Step 5: Find 3 nearest neighbors \n",
      "model = NearestNeighbors(n_neighbors=3)\n",
      "model.fit(scaled_data)\n",
      "\n",
      "_, indices = model.kneighbors(verlander_scaled)\n",
      "similar_pitcher_ids = pitcher_avgs.iloc[indices[0]].index\n",
      "\n",
      "*** Entered Generate Node ***\n",
      "\n",
      "\n",
      "*** Entered Execute Node ***\n",
      "\n",
      "\n",
      "Executing:\n",
      "# Step 6: Get names of similar pitchers\n",
      "similar_names = playerid_reverse_lookup(similar_pitcher_ids, key_type='mlbam')\n",
      "\n",
      "print(\"The 3 pitchers with the most similar changeups to Justin Verlander between 2019-06-01 and 2019-06-07 were:\")\n",
      "for pitcher_id, row in similar_names.iterrows():\n",
      "    print(f\"{row['name_first']} {row['name_last']} (ID: {pitcher_id})\")\n",
      "\n",
      "Result:\n",
      "The 3 pitchers with the most similar changeups to Justin Verlander between 2019-06-01 and 2019-06-07 were:\n",
      "justin verlander (ID: 0)\n",
      "michael pineda (ID: 1)\n",
      "miles mikolas (ID: 2)\n",
      "\n",
      "\n",
      "*** Entered Generate Node ***\n",
      "\n",
      "\n",
      "*** Entered Summarize Node ***\n",
      "\n",
      "The 3 pitchers with the most similar changeups to Justin Verlander between 2019-06-01 and 2019-06-07 were Justin Verlander, Michael Pineda, and Miles Mikolas.\n",
      "\n",
      "Here is the code that was used to reach this solution:\n",
      "\n",
      "```python\n",
      "\n",
      "# Import necessary libraries\n",
      "from pybaseball import playerid_lookup, statcast, playerid_reverse_lookup\n",
      "import pandas as pd\n",
      "from sklearn.preprocessing import StandardScaler\n",
      "from sklearn.neighbors import NearestNeighbors\n",
      "\n",
      "# Step 1: Retrieve Justin Verlander's MLBAM ID\n",
      "verlander_id = playerid_lookup('Verlander', 'Justin')['key_mlbam'][0]\n",
      "print(f\"Justin Verlander's MLBAM ID is: {verlander_id}\")\n",
      "\n",
      "# Step 2: Retrieve all changeups between 2019-06-01 and 2019-06-07\n",
      "changeups = statcast('2019-06-01', '2019-06-07', team=None)\n",
      "changeups = changeups.loc[changeups['pitch_type'] == 'CH']\n",
      "print(f\"Retrieved {len(changeups)} changeups between 2019-06-01 and 2019-06-07\")\n",
      "\n",
      "# Step 3: Create dataframe with changeup metrics\n",
      "metrics = ['release_speed', 'release_spin_rate', 'release_pos_x', \n",
      "           'release_pos_z', 'pfx_x', 'pfx_z', 'release_extension']\n",
      "\n",
      "pitcher_avgs = changeups.groupby('pitcher')[metrics].mean()\n",
      "\n",
      "print(f\"Created dataframe with changeup averages for {len(pitcher_avgs)} pitchers\")\n",
      "\n",
      "# Step 4: Scale data and calculate Verlander's averages\n",
      "scaler = StandardScaler()\n",
      "scaled_data = scaler.fit_transform(pitcher_avgs)\n",
      "\n",
      "verlander_avgs = pitcher_avgs.loc[verlander_id]\n",
      "verlander_scaled = scaler.transform(verlander_avgs.values.reshape(1,-1))\n",
      "\n",
      "# Step 5: Find 3 nearest neighbors \n",
      "model = NearestNeighbors(n_neighbors=3)\n",
      "model.fit(scaled_data)\n",
      "\n",
      "_, indices = model.kneighbors(verlander_scaled)\n",
      "similar_pitcher_ids = pitcher_avgs.iloc[indices[0]].index\n",
      "\n",
      "# Step 6: Get names of similar pitchers\n",
      "similar_names = playerid_reverse_lookup(similar_pitcher_ids, key_type='mlbam')\n",
      "\n",
      "print(\"The 3 pitchers with the most similar changeups to Justin Verlander between 2019-06-01 and 2019-06-07 were:\")\n",
      "for pitcher_id, row in similar_names.iterrows():\n",
      "    print(f\"{row['name_first']} {row['name_last']} (ID: {pitcher_id})\")\n",
      "```\n",
      "\n",
      "Are you satisfied with this result?\n"
     ]
    }
   ],
   "source": [
    "task = \"looks good\"\n",
    "result = baseball_lambda.execute_workflow(task, session_id)\n",
    "print(result)"
   ]
  },
  {
   "cell_type": "code",
   "execution_count": 7,
   "id": "a33d03ae",
   "metadata": {},
   "outputs": [
    {
     "name": "stdout",
     "output_type": "stream",
     "text": [
      "\n",
      "*** Entered Orchestrate Node ***\n",
      "\n",
      "*** Entered Memorize Node ***\n",
      "\n",
      "Thank you, task has been commited to memory\n"
     ]
    }
   ],
   "source": [
    "task = \"yes\"\n",
    "result = baseball_lambda.execute_workflow(task, session_id)\n",
    "print(result)"
   ]
  },
  {
   "cell_type": "code",
   "execution_count": null,
   "id": "781bf191",
   "metadata": {},
   "outputs": [],
   "source": []
  }
 ],
 "metadata": {
  "kernelspec": {
   "display_name": "venv",
   "language": "python",
   "name": "python3"
  },
  "language_info": {
   "codemirror_mode": {
    "name": "ipython",
    "version": 3
   },
   "file_extension": ".py",
   "mimetype": "text/x-python",
   "name": "python",
   "nbconvert_exporter": "python",
   "pygments_lexer": "ipython3",
   "version": "3.10.8"
  }
 },
 "nbformat": 4,
 "nbformat_minor": 5
}
