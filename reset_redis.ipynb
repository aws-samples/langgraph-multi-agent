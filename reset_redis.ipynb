{
 "cells": [
  {
   "cell_type": "code",
   "execution_count": 5,
   "metadata": {},
   "outputs": [
    {
     "data": {
      "text/plain": [
       "{}"
      ]
     },
     "execution_count": 5,
     "metadata": {},
     "output_type": "execute_result"
    }
   ],
   "source": [
    "from dotenv import load_dotenv, find_dotenv\n",
    "import os\n",
    "import redis\n",
    "\n",
    "from langchain_community.embeddings import BedrockEmbeddings\n",
    "from langchain_community.vectorstores.redis import Redis\n",
    "\n",
    "embeddings = BedrockEmbeddings(model_id='cohere.embed-english-v3')\n",
    "\n",
    "# read local .env file\n",
    "_ = load_dotenv(find_dotenv())\n",
    "\n",
    "redis_ip = value = os.getenv('REDIS_IP')\n",
    "redis_port = value = os.getenv('REDIS_PORT')\n",
    "\n",
    "# Connect to Redis\n",
    "r = redis.Redis(host=redis_ip, port=redis_port)\n",
    "\n",
    "# clear records\n",
    "r.flushall()\n",
    "\n",
    "info = r.info('keyspace')\n",
    "info"
   ]
  },
  {
   "cell_type": "code",
   "execution_count": 6,
   "metadata": {},
   "outputs": [
    {
     "data": {
      "text/plain": [
       "{'db0': {'keys': 1, 'expires': 0, 'avg_ttl': 0}}"
      ]
     },
     "execution_count": 6,
     "metadata": {},
     "output_type": "execute_result"
    }
   ],
   "source": [
    "# seed vector db\n",
    "seed_task = 'How many games did the Rays win in 2022?'\n",
    "\n",
    "seed_plan = '''1. Import the schedule_and_record function from pybaseball:\n",
    "\n",
    "```python\n",
    "from pybaseball import schedule_and_record\n",
    "```\n",
    "\n",
    "2. Get the 2022 schedule and results for the Tampa Bay Rays:\n",
    "\n",
    "```python\n",
    "rays_2022 = schedule_and_record(2022, 'TB')\n",
    "```\n",
    "\n",
    "3. Filter the dataframe to games where the Rays won (W/L == 'W') or had a walk-off win (W/L == 'W-wo'):\n",
    "\n",
    "```python\n",
    "rays_wins = rays_2022[(rays_2022['W/L'] == 'W') | (rays_2022['W/L'] == 'W-wo')]\n",
    "```\n",
    "\n",
    "4. Count the number of rows (games won) in the filtered dataframe:\n",
    "\n",
    "```python\n",
    "num_wins = len(rays_wins)\n",
    "print(f\"The Tampa Bay Rays won {num_wins} games in 2022.\")\n",
    "```'''\n",
    "\n",
    "seed_code = '''# 1. Import the schedule_and_record function from pybaseball\n",
    "from pybaseball import schedule_and_record\n",
    "# 2. Get the 2022 schedule and results for the Tampa Bay Rays\n",
    "rays_2022 = schedule_and_record(2022, 'TB')\n",
    "# 3. Filter the dataframe to games where the Rays won (W/L == 'W') or had a walk-off win (W/L == 'W-wo')\n",
    "rays_wins = rays_2022[(rays_2022['W/L'] == 'W') | (rays_2022['W/L'] == 'W-wo')]\n",
    "# 4. Count the number of rows (games won) in the filtered dataframe\n",
    "num_wins = len(rays_wins)\n",
    "print(f\"The Tampa Bay Rays won {num_wins} games in 2022.\")'''\n",
    "\n",
    "metadata = [\n",
    "    {\n",
    "        \"plan\": seed_plan,\n",
    "        \"code\": seed_code,\n",
    "        \"function_detail\": \"seed_function_detail\"\n",
    "    }\n",
    "]\n",
    "texts = [\"seed_task\"]\n",
    "\n",
    "rds = Redis.from_texts(\n",
    "    texts,\n",
    "    embeddings,\n",
    "    metadatas=metadata,\n",
    "    redis_url=f\"redis://{redis_ip}:{redis_port}\",\n",
    "    index_name=\"plans\",\n",
    ")\n",
    "\n",
    "# write schema\n",
    "rds.write_schema(\"redis_schema.yaml\")\n",
    "\n",
    "#rds.delete(ids=texts)\n",
    "\n",
    "info = r.info('keyspace')\n",
    "info"
   ]
  },
  {
   "cell_type": "code",
   "execution_count": null,
   "metadata": {},
   "outputs": [],
   "source": []
  }
 ],
 "metadata": {
  "kernelspec": {
   "display_name": "venv",
   "language": "python",
   "name": "python3"
  },
  "language_info": {
   "codemirror_mode": {
    "name": "ipython",
    "version": 3
   },
   "file_extension": ".py",
   "mimetype": "text/x-python",
   "name": "python",
   "nbconvert_exporter": "python",
   "pygments_lexer": "ipython3",
   "version": "3.10.8"
  }
 },
 "nbformat": 4,
 "nbformat_minor": 2
}
