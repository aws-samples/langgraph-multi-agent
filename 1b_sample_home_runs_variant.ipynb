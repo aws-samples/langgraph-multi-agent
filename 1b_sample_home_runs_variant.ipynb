{
 "cells": [
  {
   "cell_type": "code",
   "execution_count": 1,
   "id": "7c01b355-66d2-40e0-92a4-c4553a8d2edd",
   "metadata": {
    "tags": []
   },
   "outputs": [
    {
     "name": "stderr",
     "output_type": "stream",
     "text": [
      "/Users/rosclay/Documents/VSCode/langgraph-multi-agent/venv/lib/python3.10/site-packages/langchain_core/_api/beta_decorator.py:87: LangChainBetaWarning: The function `bind_tools` is in beta. It is actively being worked on, so the API may change.\n",
      "  warn_beta(\n",
      "Python REPL can execute arbitrary code. Use with caution.\n"
     ]
    }
   ],
   "source": [
    "# general\n",
    "from datetime import datetime\n",
    "from dotenv import load_dotenv, find_dotenv\n",
    "import os\n",
    "\n",
    "# custom local libs\n",
    "from function import baseball_lambda"
   ]
  },
  {
   "cell_type": "code",
   "execution_count": 2,
   "id": "7a2a54ab",
   "metadata": {
    "tags": []
   },
   "outputs": [],
   "source": [
    "# read local .env file\n",
    "_ = load_dotenv(find_dotenv()) "
   ]
  },
  {
   "cell_type": "code",
   "execution_count": 3,
   "id": "12b6af87",
   "metadata": {
    "tags": []
   },
   "outputs": [],
   "source": [
    "# set Langsmith project\n",
    "today = datetime.now().strftime(\"%Y%m%d\")\n",
    "os.environ[\"LANGCHAIN_PROJECT\"] = f\"Baseball Homeruns - {today}\""
   ]
  },
  {
   "cell_type": "code",
   "execution_count": 4,
   "id": "a9ed0aff",
   "metadata": {
    "tags": []
   },
   "outputs": [],
   "source": [
    "session_id = '543108'"
   ]
  },
  {
   "cell_type": "code",
   "execution_count": 5,
   "id": "024b632a",
   "metadata": {
    "tags": []
   },
   "outputs": [
    {
     "name": "stdout",
     "output_type": "stream",
     "text": [
      "\n",
      "*** Entered Orchestrate Node ***\n",
      "\n",
      "*** Entered Retrieve Node ***\n",
      "\n",
      "Distance to neareast plan: 0.381\n",
      "\n",
      "*** Entered Modify Node ***\n",
      "\n",
      "Modifying nearest plan with User input\n",
      "1. Import the required pybaseball libraries:\n",
      "```python\n",
      "from pybaseball import playerid_lookup, batting_stats_range\n",
      "```\n",
      "\n",
      "2. Look up Whit Merrifield's mlbam ID:\n",
      "```python\n",
      "merrifield_id = playerid_lookup('merrifield', 'whit')['key_mlbam'].values[0]\n",
      "```\n",
      "\n",
      "3. Get Whit Merrifield's batting stats for the 2019 season:\n",
      "```python\n",
      "merrifield_2019 = batting_stats_range('2019-03-01', '2019-11-30', player_id=merrifield_id)\n",
      "```\n",
      "\n",
      "4. Sum the '2B' column to get the total doubles:\n",
      "```python\n",
      "num_doubles = merrifield_2019['2B'].sum()\n",
      "print(f\"Whit Merrifield hit {num_doubles} doubles in the 2019 season.\")\n",
      "```\n"
     ]
    }
   ],
   "source": [
    "task = 'How many doubles did Whit Merrifield hit in 2019?' \n",
    "result = baseball_lambda.execute_workflow(task, session_id)\n",
    "print(result)"
   ]
  },
  {
   "cell_type": "code",
   "execution_count": 6,
   "id": "8c9e31b6",
   "metadata": {
    "tags": []
   },
   "outputs": [
    {
     "name": "stdout",
     "output_type": "stream",
     "text": [
      "\n",
      "*** Entered Orchestrate Node ***\n",
      "Known plan. Executing with Sonnet\n",
      "\n",
      "*** Entered Generate Node ***\n",
      "\n",
      "\n",
      "*** Entered Execute Node ***\n",
      "\n",
      "\n",
      "Executing:\n",
      "# Import required libraries\n",
      "from pybaseball import playerid_lookup, batting_stats_range\n",
      "\n",
      "*** Entered Generate Node ***\n",
      "\n",
      "\n",
      "*** Entered Execute Node ***\n",
      "\n",
      "\n",
      "Executing:\n",
      "# Look up Whit Merrifield's player ID\n",
      "merrifield_id = playerid_lookup('merrifield', 'whit')['key_mlbam'].values[0]\n",
      "print(f\"Whit Merrifield's player ID is: {merrifield_id}\")\n",
      "\n",
      "Result:\n",
      "Gathering player lookup table. This may take a moment.\n",
      "Whit Merrifield's player ID is: 593160\n",
      "\n",
      "\n",
      "*** Entered Generate Node ***\n",
      "\n",
      "\n",
      "*** Entered Execute Node ***\n",
      "\n",
      "\n",
      "Executing:\n",
      "# Get Merrifield's 2019 batting stats \n",
      "merrifield_2019 = batting_stats_range('2019-03-01', '2019-11-30', player_id=merrifield_id)\n",
      "\n",
      "Result:\n",
      "TypeError(\"batting_stats_range() got an unexpected keyword argument 'player_id'\")\n",
      "\n",
      "*** Entered Generate Node ***\n",
      "\n",
      "\n",
      "*** Entered Execute Node ***\n",
      "\n",
      "\n",
      "Executing:\n",
      "help(batting_stats_range)\n",
      "\n",
      "Result:\n",
      "Help on function batting_stats_range in module pybaseball.league_batting_stats:\n",
      "\n",
      "batting_stats_range(start_dt: Optional[str] = None, end_dt: Optional[str] = None) -> pandas.core.frame.DataFrame\n",
      "    Get all batting stats for a set time range. This can be the past week, the\n",
      "    month of August, anything. Just supply the start and end date in YYYY-MM-DD\n",
      "    format.\n",
      "\n",
      "\n",
      "\n",
      "*** Entered Generate Node ***\n",
      "\n",
      "\n",
      "*** Entered Execute Node ***\n",
      "\n",
      "\n",
      "Executing:\n",
      "# Get all 2019 batting stats\n",
      "all_2019_stats = batting_stats_range('2019-03-01', '2019-11-30')  \n",
      "\n",
      "# Filter for just Whit Merrifield\n",
      "merrifield_2019 = all_2019_stats[all_2019_stats['Name'] == 'Whit Merrifield']\n",
      "\n",
      "*** Entered Generate Node ***\n",
      "\n",
      "\n",
      "*** Entered Execute Node ***\n",
      "\n",
      "\n",
      "Executing:\n",
      "# Sum the 2B column to get doubles \n",
      "num_doubles = merrifield_2019['2B'].sum()\n",
      "\n",
      "# Print the result\n",
      "print(f\"Whit Merrifield hit {num_doubles} doubles in the 2019 season.\")\n",
      "\n",
      "Result:\n",
      "Whit Merrifield hit 41 doubles in the 2019 season.\n",
      "\n",
      "\n",
      "*** Entered Generate Node ***\n",
      "\n",
      "\n",
      "*** Entered Summarize Node ***\n",
      "\n",
      "Whit Merrifield hit 41 doubles in the 2019 season.\n",
      "\n",
      "Here is the code that was used to reach this solution:\n",
      "\n",
      "```python\n",
      "\n",
      "# Import required libraries\n",
      "from pybaseball import playerid_lookup, batting_stats_range\n",
      "\n",
      "# Look up Whit Merrifield's player ID\n",
      "merrifield_id = playerid_lookup('merrifield', 'whit')['key_mlbam'].values[0]\n",
      "print(f\"Whit Merrifield's player ID is: {merrifield_id}\")\n",
      "\n",
      "help(batting_stats_range)\n",
      "\n",
      "# Get all 2019 batting stats\n",
      "all_2019_stats = batting_stats_range('2019-03-01', '2019-11-30')  \n",
      "\n",
      "# Filter for just Whit Merrifield\n",
      "merrifield_2019 = all_2019_stats[all_2019_stats['Name'] == 'Whit Merrifield']\n",
      "\n",
      "# Sum the 2B column to get doubles \n",
      "num_doubles = merrifield_2019['2B'].sum()\n",
      "\n",
      "# Print the result\n",
      "print(f\"Whit Merrifield hit {num_doubles} doubles in the 2019 season.\")\n",
      "```\n",
      "\n",
      "Are you satisfied with this result?\n"
     ]
    }
   ],
   "source": [
    "task = \"looks good\"\n",
    "result = baseball_lambda.execute_workflow(task, session_id)\n",
    "print(result)"
   ]
  },
  {
   "cell_type": "code",
   "execution_count": 7,
   "id": "907e823a",
   "metadata": {
    "tags": []
   },
   "outputs": [
    {
     "name": "stdout",
     "output_type": "stream",
     "text": [
      "\n",
      "*** Entered Orchestrate Node ***\n",
      "\n",
      "*** Entered Memorize Node ***\n",
      "\n",
      "Thank you, task has been commited to memory\n"
     ]
    }
   ],
   "source": [
    "task = \"yes\"\n",
    "result = baseball_lambda.execute_workflow(task, session_id)\n",
    "print(result)"
   ]
  },
  {
   "cell_type": "code",
   "execution_count": null,
   "id": "e21fc241",
   "metadata": {},
   "outputs": [],
   "source": []
  }
 ],
 "metadata": {
  "kernelspec": {
   "display_name": "venv",
   "language": "python",
   "name": "python3"
  },
  "language_info": {
   "codemirror_mode": {
    "name": "ipython",
    "version": 3
   },
   "file_extension": ".py",
   "mimetype": "text/x-python",
   "name": "python",
   "nbconvert_exporter": "python",
   "pygments_lexer": "ipython3",
   "version": "3.10.8"
  }
 },
 "nbformat": 4,
 "nbformat_minor": 5
}
