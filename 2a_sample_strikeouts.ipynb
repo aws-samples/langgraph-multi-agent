{
 "cells": [
  {
   "cell_type": "code",
   "execution_count": 1,
   "id": "7c01b355-66d2-40e0-92a4-c4553a8d2edd",
   "metadata": {
    "tags": []
   },
   "outputs": [
    {
     "name": "stderr",
     "output_type": "stream",
     "text": [
      "/Users/rosclay/Documents/VSCode/langgraph-multi-agent/venv/lib/python3.10/site-packages/langchain_core/_api/beta_decorator.py:87: LangChainBetaWarning: The function `bind_tools` is in beta. It is actively being worked on, so the API may change.\n",
      "  warn_beta(\n",
      "Python REPL can execute arbitrary code. Use with caution.\n"
     ]
    }
   ],
   "source": [
    "# general\n",
    "from datetime import datetime\n",
    "from dotenv import load_dotenv, find_dotenv\n",
    "import os\n",
    "\n",
    "# custom local libs\n",
    "from function import baseball_lambda"
   ]
  },
  {
   "cell_type": "code",
   "execution_count": 2,
   "id": "7a2a54ab",
   "metadata": {},
   "outputs": [],
   "source": [
    "# read local .env file\n",
    "_ = load_dotenv(find_dotenv()) "
   ]
  },
  {
   "cell_type": "code",
   "execution_count": 3,
   "id": "12b6af87",
   "metadata": {},
   "outputs": [],
   "source": [
    "# set Langsmith project\n",
    "today = datetime.now().strftime(\"%Y%m%d\")\n",
    "os.environ[\"LANGCHAIN_PROJECT\"] = f\"Baseball Strikeouts - {today}\""
   ]
  },
  {
   "cell_type": "code",
   "execution_count": 4,
   "id": "6bf9b046",
   "metadata": {},
   "outputs": [],
   "source": [
    "session_id = '00792'"
   ]
  },
  {
   "cell_type": "code",
   "execution_count": 5,
   "id": "3ab7493f",
   "metadata": {},
   "outputs": [
    {
     "name": "stdout",
     "output_type": "stream",
     "text": [
      "\n",
      "*** Entered Orchestrate Node ***\n",
      "\n",
      "*** Entered Retrieve Node ***\n",
      "\n",
      "Distance to neareast plan: 0.5781\n",
      "\n",
      "*** Entered Initialize Node ***\n",
      "\n",
      "Formulating a new plan to solve the task.\n",
      "Collecting documentation for playerid_lookup, statcast_pitcher\n",
      "\n",
      "*** Entered Update Node ***\n",
      "\n",
      "Updating plan based function documentation\n",
      "The updated plan to plot the cumulative sum of strikeouts thrown by Danny Duffy in 2018 is as follows:\n",
      "\n",
      "1. Import the required pybaseball libraries: `from pybaseball import playerid_lookup, statcast_pitcher` and `import matplotlib.pyplot as plt`.\n",
      "\n",
      "2. Look up Danny Duffy's mlbam ID using `playerid_lookup(('duffy', 'danny'))['key_mlbam'].values[0]`.\n",
      "\n",
      "3. Get Danny Duffy's pitching stats for the 2018 season using `statcast_pitcher('2018-03-01', '2018-10-31', player_id=duffy_id)`.\n",
      "\n",
      "4. Group the data by game date and sum the strikeouts for each game using `duffy_2018.groupby('game_date')['events'].agg(lambda x: (x=='strikeout').sum())`.\n",
      "\n",
      "5. Calculate the cumulative sum of strikeouts using `duffy_2018_by_game.cumsum()`.\n",
      "\n",
      "6. Plot the cumulative strikeout totals using `plt.figure(figsize=(10,6)), plt.plot(duffy_2018_by_game_cumsum.index, duffy_2018_by_game_cumsum.values), plt.xlabel('Date'), plt.ylabel('Cumulative Strikeouts'), plt.title('Danny Duffy 2018 Cumulative Strikeouts'), plt.show()`.\n",
      "\n",
      "7. Print the total strikeouts for the season using `print(f\"Danny Duffy had a total of {duffy_2018_by_game_cumsum.values[-1]} strikeouts in the 2018 season.\")`.\n",
      "\n",
      "Are you satisfied with this plan?\n"
     ]
    }
   ],
   "source": [
    "task = '''Plot the cumulative sum of strikeouts thrown by Danny Duffy in the 2018 season.'''\n",
    "result = baseball_lambda.execute_workflow(task, session_id)\n",
    "print(result)"
   ]
  },
  {
   "cell_type": "code",
   "execution_count": 6,
   "id": "16e38e7d",
   "metadata": {},
   "outputs": [
    {
     "name": "stdout",
     "output_type": "stream",
     "text": [
      "\n",
      "*** Entered Orchestrate Node ***\n",
      "\n",
      "*** Entered Revise Node ***\n",
      "\n",
      "The revised plan to plot the cumulative sum of strikeouts thrown by Danny Duffy in the 2018 season looks good. The key changes you made are:\n",
      "\n",
      "1. Renaming the 'events' column to 'strikeouts' after summing to make it clearer.\n",
      "2. Sorting the data by game date before calculating the cumulative sum.\n",
      "3. Rotating the x-axis labels 45 degrees to avoid overlap.\n",
      "\n",
      "These changes improve the clarity and readability of the code and the resulting plot. The step-by-step plan is well-structured and easy to follow. I don't see any further modifications needed at this point. The final output of printing the total strikeouts for the season is also a nice touch to summarize the analysis.\n",
      "\n",
      "Are you satisfied with this plan?\n"
     ]
    }
   ],
   "source": [
    "task = \"First sum strikeouts by date and then calculate a cumulative sum across dates\"\n",
    "result = baseball_lambda.execute_workflow(task, session_id)\n",
    "print(result)"
   ]
  },
  {
   "cell_type": "code",
   "execution_count": 7,
   "id": "28cf13b0",
   "metadata": {},
   "outputs": [
    {
     "name": "stdout",
     "output_type": "stream",
     "text": [
      "\n",
      "*** Entered Orchestrate Node ***\n",
      "Unknown plan. Executing with Opus\n",
      "\n",
      "*** Entered Generate Node ***\n",
      "\n",
      "\n",
      "*** Entered Execute Node ***\n",
      "\n",
      "\n",
      "Executing:\n",
      "from pybaseball import playerid_lookup\n",
      "\n",
      "# Look up Danny Duffy's player ID\n",
      "duffy_id = playerid_lookup('duffy', 'danny')['key_mlbam'].values[0]\n",
      "print(f\"Danny Duffy's player ID is: {duffy_id}\")\n",
      "\n",
      "Result:\n",
      "Gathering player lookup table. This may take a moment.\n",
      "Danny Duffy's player ID is: 518633\n",
      "\n",
      "\n",
      "*** Entered Generate Node ***\n",
      "\n",
      "\n",
      "*** Entered Execute Node ***\n",
      "\n",
      "\n",
      "Executing:\n",
      "from pybaseball import statcast_pitcher\n",
      "\n",
      "# Get all of Danny Duffy's 2018 pitching stats  \n",
      "duffy_2018 = statcast_pitcher('2018-03-01', '2018-11-30', 518633)\n",
      "\n",
      "Result:\n",
      "Gathering Player Data\n",
      "\n",
      "\n",
      "*** Entered Generate Node ***\n",
      "\n",
      "\n",
      "*** Entered Execute Node ***\n",
      "\n",
      "\n",
      "Executing:\n",
      "# Sum strikeouts per game\n",
      "strikeouts_by_game = duffy_2018.groupby('game_date')['events'].agg(lambda x: (x=='strikeout').sum()).reset_index()\n",
      "strikeouts_by_game.rename(columns={'events':'strikeouts'}, inplace=True)\n",
      "strikeouts_by_game.head()\n",
      "\n",
      "*** Entered Generate Node ***\n",
      "\n",
      "\n",
      "*** Entered Execute Node ***\n",
      "\n",
      "\n",
      "Executing:\n",
      "# Sort by game date\n",
      "strikeouts_by_game.sort_values('game_date', inplace=True)\n",
      "\n",
      "# Calculate cumulative sum of strikeouts  \n",
      "strikeouts_by_game['strikeouts_cumsum'] = strikeouts_by_game['strikeouts'].cumsum()\n",
      "strikeouts_by_game.head()\n",
      "\n",
      "*** Entered Generate Node ***\n",
      "\n",
      "\n",
      "*** Entered Execute Node ***\n",
      "\n",
      "\n",
      "Executing:\n",
      "import matplotlib.pyplot as plt\n",
      "\n",
      "# Create plot\n",
      "plt.figure(figsize=(12,6))\n",
      "plt.plot(strikeouts_by_game['game_date'], strikeouts_by_game['strikeouts_cumsum'])\n",
      "\n",
      "# Add labels and title\n",
      "plt.xlabel('Date') \n",
      "plt.ylabel('Cumulative Strikeouts')\n",
      "plt.title('Danny Duffy Cumulative Strikeouts in 2018')\n",
      "\n",
      "# Rotate x-tick labels to avoid overlap\n",
      "plt.xticks(rotation=45)\n",
      "\n",
      "# Display plot \n",
      "plt.show()\n",
      "\n",
      "# Print total strikeouts for the season\n",
      "print(f\"Danny Duffy had a total of {strikeouts_by_game['strikeouts'].sum()} strikeouts in the 2018 season.\")\n"
     ]
    },
    {
     "data": {
      "image/png": "[encoded data removed]",
      "text/plain": [
       "<Figure size 1200x600 with 1 Axes>"
      ]
     },
     "metadata": {},
     "output_type": "display_data"
    },
    {
     "name": "stdout",
     "output_type": "stream",
     "text": [
      "\n",
      "Result:\n",
      "Danny Duffy had a total of 151 strikeouts in the 2018 season.\n",
      "\n",
      "\n",
      "*** Entered Generate Node ***\n",
      "\n",
      "\n",
      "*** Entered Summarize Node ***\n",
      "\n",
      "The plan to plot the cumulative sum of Danny Duffy's strikeouts in the 2018 season has been completed. The key steps were:\n",
      "\n",
      "1. Retrieving Duffy's 2018 pitching stats\n",
      "2. Grouping the data by game date and summing the strikeouts per game\n",
      "3. Calculating the cumulative sum of strikeouts over the season\n",
      "4. Plotting the cumulative strikeouts over time\n",
      "\n",
      "The final result shows that Danny Duffy had a total of 151 strikeouts in the 2018 season.\n",
      "\n",
      "Here is the code that was used to reach this solution:\n",
      "\n",
      "```python\n",
      "\n",
      "from pybaseball import playerid_lookup\n",
      "\n",
      "# Look up Danny Duffy's player ID\n",
      "duffy_id = playerid_lookup('duffy', 'danny')['key_mlbam'].values[0]\n",
      "print(f\"Danny Duffy's player ID is: {duffy_id}\")\n",
      "\n",
      "from pybaseball import statcast_pitcher\n",
      "\n",
      "# Get all of Danny Duffy's 2018 pitching stats  \n",
      "duffy_2018 = statcast_pitcher('2018-03-01', '2018-11-30', 518633)\n",
      "\n",
      "# Sum strikeouts per game\n",
      "strikeouts_by_game = duffy_2018.groupby('game_date')['events'].agg(lambda x: (x=='strikeout').sum()).reset_index()\n",
      "strikeouts_by_game.rename(columns={'events':'strikeouts'}, inplace=True)\n",
      "strikeouts_by_game.head()\n",
      "\n",
      "# Sort by game date\n",
      "strikeouts_by_game.sort_values('game_date', inplace=True)\n",
      "\n",
      "# Calculate cumulative sum of strikeouts  \n",
      "strikeouts_by_game['strikeouts_cumsum'] = strikeouts_by_game['strikeouts'].cumsum()\n",
      "strikeouts_by_game.head()\n",
      "\n",
      "import matplotlib.pyplot as plt\n",
      "\n",
      "# Create plot\n",
      "plt.figure(figsize=(12,6))\n",
      "plt.plot(strikeouts_by_game['game_date'], strikeouts_by_game['strikeouts_cumsum'])\n",
      "\n",
      "# Add labels and title\n",
      "plt.xlabel('Date') \n",
      "plt.ylabel('Cumulative Strikeouts')\n",
      "plt.title('Danny Duffy Cumulative Strikeouts in 2018')\n",
      "\n",
      "# Rotate x-tick labels to avoid overlap\n",
      "plt.xticks(rotation=45)\n",
      "\n",
      "# Display plot \n",
      "plt.show()\n",
      "\n",
      "# Print total strikeouts for the season\n",
      "print(f\"Danny Duffy had a total of {strikeouts_by_game['strikeouts'].sum()} strikeouts in the 2018 season.\")\n",
      "```\n",
      "\n",
      "Are you satisfied with this result?\n"
     ]
    }
   ],
   "source": [
    "task = \"approved\"\n",
    "result = baseball_lambda.execute_workflow(task, session_id)\n",
    "print(result)"
   ]
  },
  {
   "cell_type": "code",
   "execution_count": 8,
   "id": "e4e16bee",
   "metadata": {},
   "outputs": [
    {
     "name": "stdout",
     "output_type": "stream",
     "text": [
      "\n",
      "*** Entered Orchestrate Node ***\n",
      "\n",
      "*** Entered Memorize Node ***\n",
      "\n",
      "Thank you, task has been commited to memory\n"
     ]
    }
   ],
   "source": [
    "task = \"yes\"\n",
    "result = baseball_lambda.execute_workflow(task, session_id)\n",
    "print(result)"
   ]
  },
  {
   "cell_type": "code",
   "execution_count": null,
   "id": "981a9a05",
   "metadata": {},
   "outputs": [],
   "source": []
  }
 ],
 "metadata": {
  "kernelspec": {
   "display_name": "venv",
   "language": "python",
   "name": "python3"
  },
  "language_info": {
   "codemirror_mode": {
    "name": "ipython",
    "version": 3
   },
   "file_extension": ".py",
   "mimetype": "text/x-python",
   "name": "python",
   "nbconvert_exporter": "python",
   "pygments_lexer": "ipython3",
   "version": "3.10.8"
  }
 },
 "nbformat": 4,
 "nbformat_minor": 5
}
