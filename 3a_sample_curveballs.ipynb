{
 "cells": [
  {
   "cell_type": "code",
   "execution_count": 1,
   "id": "7c01b355-66d2-40e0-92a4-c4553a8d2edd",
   "metadata": {
    "tags": []
   },
   "outputs": [
    {
     "name": "stderr",
     "output_type": "stream",
     "text": [
      "/Users/rosclay/Documents/VSCode/langgraph-multi-agent/venv/lib/python3.10/site-packages/langchain_core/_api/beta_decorator.py:87: LangChainBetaWarning: The function `bind_tools` is in beta. It is actively being worked on, so the API may change.\n",
      "  warn_beta(\n",
      "Python REPL can execute arbitrary code. Use with caution.\n"
     ]
    }
   ],
   "source": [
    "# general\n",
    "from datetime import datetime\n",
    "from dotenv import load_dotenv, find_dotenv\n",
    "import os\n",
    "\n",
    "# custom local libs\n",
    "from function import baseball_lambda"
   ]
  },
  {
   "cell_type": "code",
   "execution_count": 2,
   "id": "7a2a54ab",
   "metadata": {},
   "outputs": [],
   "source": [
    "# read local .env file\n",
    "_ = load_dotenv(find_dotenv()) "
   ]
  },
  {
   "cell_type": "code",
   "execution_count": 3,
   "id": "12b6af87",
   "metadata": {},
   "outputs": [],
   "source": [
    "# set Langsmith project\n",
    "today = datetime.now().strftime(\"%Y%m%d\")\n",
    "os.environ[\"LANGCHAIN_PROJECT\"] = f\"Baseball Curveballs - {today}\""
   ]
  },
  {
   "cell_type": "code",
   "execution_count": 4,
   "id": "6bf9b046",
   "metadata": {},
   "outputs": [],
   "source": [
    "session_id = '2110956'"
   ]
  },
  {
   "cell_type": "code",
   "execution_count": 5,
   "id": "483dc6f3",
   "metadata": {},
   "outputs": [
    {
     "name": "stdout",
     "output_type": "stream",
     "text": [
      "\n",
      "*** Entered Orchestrate Node ***\n",
      "\n",
      "*** Entered Retrieve Node ***\n",
      "\n",
      "Distance to neareast plan: 0.572\n",
      "\n",
      "*** Entered Initialize Node ***\n",
      "\n",
      "Formulating a new plan to solve the task.\n",
      "Collecting documentation for playerid_lookup, statcast_pitcher, statcast, playerid_reverse_lookup\n",
      "\n",
      "*** Entered Update Node ***\n",
      "\n",
      "Updating plan based function documentation\n",
      "Here is the updated plan to find the 3 pitchers with curveballs most similar to Max Scherzer's in the first week of August 2020:\n",
      "\n",
      "1. Use the playerid_lookup function from the pybaseball library to get Max Scherzer's MLBAM ID by passing his last name \"Scherzer\" and first name \"Max\". \n",
      "\n",
      "2. Use the statcast_pitcher function from the pybaseball library to get Scherzer's statcast data from 2020-08-01 to 2020-08-07, filtering for only pitches where pitch_type = 'CU'. \n",
      "\n",
      "3. Calculate the average release_speed, release_spin_rate, pfx_x, and pfx_z for Scherzer's curveball from the data in step 2.\n",
      "\n",
      "4. Use the statcast function from the pybaseball library to get all pitches thrown between 2020-08-01 and 2020-08-07 where pitch_type = 'CU'.\n",
      "\n",
      "5. Group the data from step 4 by pitcher, using the pitcher's MLBAM ID. \n",
      "\n",
      "6. For each pitcher, calculate their average curveball release_speed, release_spin_rate, pfx_x and pfx_z.\n",
      "\n",
      "7. For each pitcher, calculate the absolute difference between their average CV metrics and Scherzer's from step 3. Sum these 4 absolute differences to get a \"similarity score\" for each pitcher.\n",
      "\n",
      "8. Find the 3 pitchers with the smallest similarity scores.\n",
      "\n",
      "9. Use the playerid_reverse_lookup function from the pybaseball library to get the names of those 3 pitchers from their MLBAM IDs.\n",
      "\n",
      "10. Print out the names of the 3 pitchers with the most similar curveballs to Max Scherzer's in the first week of August 2020.\n",
      "\n",
      "Are you satisfied with this plan?\n"
     ]
    }
   ],
   "source": [
    "task =  \"Consider the first week of August 2020 - find the names of 3 pitchers who's curveballs were most similar to Max Scherzer's.\"\n",
    "result = baseball_lambda.execute_workflow(task, session_id)\n",
    "print(result)"
   ]
  },
  {
   "cell_type": "code",
   "execution_count": 6,
   "id": "f96260a3",
   "metadata": {},
   "outputs": [
    {
     "name": "stdout",
     "output_type": "stream",
     "text": [
      "\n",
      "*** Entered Orchestrate Node ***\n",
      "\n",
      "*** Entered Revise Node ***\n",
      "\n",
      "The updated plan looks good and covers the key steps to identify the 3 pitchers with the most similar curveballs to Max Scherzer's during the specified time period. The plan includes:\n",
      "\n",
      "1. Retrieving Scherzer's MLBAM ID\n",
      "2. Retrieving all curveballs thrown by pitchers between 2020-08-01 and 2020-08-07\n",
      "3. Creating a dataframe with key curveball metrics for each pitcher\n",
      "4. Scaling the data and calculating Scherzer's average curveball metrics\n",
      "5. Training a KNeighborsClassifier model to find the 3 pitchers with the most similar curveball metrics to Scherzer's\n",
      "6. Retrieving the names of those 3 pitchers\n",
      "\n",
      "This plan should allow us to effectively identify the 3 pitchers with the most similar curveballs to Scherzer's during that time period. Let me know if you have any other feedback or if you would like me to modify the plan further.\n",
      "\n",
      "Are you satisfied with this plan?\n"
     ]
    }
   ],
   "source": [
    "task = \"\"\"\n",
    "make sure the plan follows this general flow:\n",
    "1) create an average vector for each pitcher's curveball.\n",
    "2) Train a knn model on this data\n",
    "3) Use this model to find the 3 pitchers with the most similar curveball to Max Scherzer\n",
    "\"\"\"\n",
    "result = baseball_lambda.execute_workflow(task, session_id)\n",
    "print(result)"
   ]
  },
  {
   "cell_type": "code",
   "execution_count": 7,
   "id": "4d6b35ae",
   "metadata": {},
   "outputs": [
    {
     "name": "stdout",
     "output_type": "stream",
     "text": [
      "\n",
      "*** Entered Orchestrate Node ***\n",
      "Unknown plan. Executing with Opus\n",
      "\n",
      "*** Entered Generate Node ***\n",
      "\n",
      "\n",
      "*** Entered Execute Node ***\n",
      "\n",
      "\n",
      "Executing:\n",
      "from pybaseball import playerid_lookup, statcast_pitcher\n",
      "import pandas as pd\n",
      "from sklearn.preprocessing import StandardScaler\n",
      "from sklearn.neighbors import NearestNeighbors\n",
      "\n",
      "# Get Max Scherzer's MLBAM ID\n",
      "scherzer_id = playerid_lookup('Scherzer', 'Max')['key_mlbam'][0]\n",
      "print(f\"Max Scherzer's MLBAM ID is: {scherzer_id}\")\n",
      "\n",
      "Result:\n",
      "Gathering player lookup table. This may take a moment.\n",
      "Max Scherzer's MLBAM ID is: 453286\n",
      "\n",
      "\n",
      "*** Entered Generate Node ***\n",
      "\n",
      "\n",
      "*** Entered Execute Node ***\n",
      "\n",
      "\n",
      "Executing:\n",
      "# Get all pitches thrown between 2020-08-01 and 2020-08-07\n",
      "data = statcast('2020-08-01', '2020-08-07') \n",
      "\n",
      "# Filter to only curveballs\n",
      "curveballs = data.loc[data['pitch_type'] == 'CU']\n",
      "print(f\"Retrieved {len(curveballs)} curveballs between 2020-08-01 and 2020-08-07\")\n",
      "\n",
      "Result:\n",
      "NameError(\"name 'statcast' is not defined\")\n",
      "\n",
      "*** Entered Generate Node ***\n",
      "\n"
     ]
    },
    {
     "name": "stderr",
     "output_type": "stream",
     "text": [
      "  0%|          | 0/7 [00:00<?, ?it/s]"
     ]
    },
    {
     "name": "stdout",
     "output_type": "stream",
     "text": [
      "\n",
      "*** Entered Execute Node ***\n",
      "\n",
      "\n",
      "Executing:\n",
      "from pybaseball import playerid_lookup, statcast_pitcher, statcast\n",
      "import pandas as pd\n",
      "from sklearn.preprocessing import StandardScaler  \n",
      "from sklearn.neighbors import NearestNeighbors\n",
      "\n",
      "# Get Max Scherzer's MLBAM ID\n",
      "scherzer_id = playerid_lookup('Scherzer', 'Max')['key_mlbam'][0]\n",
      "\n",
      "# Get all pitches thrown between 2020-08-01 and 2020-08-07 \n",
      "data = statcast('2020-08-01', '2020-08-07')\n",
      "\n",
      "# Filter to only curveballs\n",
      "curveballs = data.loc[data['pitch_type'] == 'CU'] \n",
      "print(f\"Retrieved {len(curveballs)} curveballs between 2020-08-01 and 2020-08-07\")\n"
     ]
    },
    {
     "name": "stderr",
     "output_type": "stream",
     "text": [
      "100%|██████████| 7/7 [00:12<00:00,  1.82s/it]\n"
     ]
    },
    {
     "name": "stdout",
     "output_type": "stream",
     "text": [
      "\n",
      "Result:\n",
      "This is a large query, it may take a moment to complete\n",
      "Retrieved 2025 curveballs between 2020-08-01 and 2020-08-07\n",
      "\n",
      "\n",
      "*** Entered Generate Node ***\n",
      "\n",
      "\n",
      "*** Entered Execute Node ***\n",
      "\n",
      "\n",
      "Executing:\n",
      "# Select key metrics\n",
      "metrics = ['release_speed', 'release_spin_rate', 'release_pos_x', 'release_pos_z', 'pfx_x', 'pfx_z', 'plate_x', 'plate_z']\n",
      "\n",
      "# Group by pitcher and calculate mean for each metric\n",
      "pitcher_avgs = curveballs.groupby('pitcher')[metrics].mean()\n",
      "\n",
      "print(f\"Created dataframe with curveball averages for {len(pitcher_avgs)} pitchers\")\n",
      "\n",
      "Result:\n",
      "Created dataframe with curveball averages for 215 pitchers\n",
      "\n",
      "\n",
      "*** Entered Generate Node ***\n",
      "\n",
      "\n",
      "*** Entered Execute Node ***\n",
      "\n",
      "\n",
      "Executing:\n",
      "# Scale the data\n",
      "scaler = StandardScaler()\n",
      "scaled_data = scaler.fit_transform(pitcher_avgs)\n",
      "\n",
      "# Get Scherzer's data \n",
      "scherzer_data = pitcher_avgs.loc[scherzer_id]\n",
      "scherzer_scaled = scaler.transform(scherzer_data.values.reshape(1,-1))\n",
      "\n",
      "# Train KNN model\n",
      "model = NearestNeighbors(n_neighbors=3)\n",
      "model.fit(scaled_data)\n",
      "\n",
      "# Find 3 most similar pitchers\n",
      "_, indices = model.kneighbors(scherzer_scaled)\n",
      "similar_pitchers = pitcher_avgs.iloc[indices[0]].index\n",
      "\n",
      "print(\"The 3 pitchers with the most similar curveballs to Max Scherzer are:\")\n",
      "\n",
      "Result:\n",
      "The 3 pitchers with the most similar curveballs to Max Scherzer are:\n",
      "\n",
      "\n",
      "*** Entered Generate Node ***\n",
      "\n",
      "\n",
      "*** Entered Execute Node ***\n",
      "\n",
      "\n",
      "Executing:\n",
      "from pybaseball import playerid_reverse_lookup\n",
      "\n",
      "# Get the names of the 3 most similar pitchers\n",
      "similar_names = playerid_reverse_lookup(similar_pitchers)\n",
      "\n",
      "print(\"The 3 pitchers with the most similar curveballs to Max Scherzer between 2020-08-01 and 2020-08-07 were:\")\n",
      "for pitcher_id, row in similar_names.iterrows():\n",
      "    print(f\"{row['name_first']} {row['name_last']} (ID: {pitcher_id})\")\n",
      "\n",
      "Result:\n",
      "The 3 pitchers with the most similar curveballs to Max Scherzer between 2020-08-01 and 2020-08-07 were:\n",
      "josh smith (ID: 0)\n",
      "max scherzer (ID: 1)\n",
      "charlie morton (ID: 2)\n",
      "\n",
      "\n",
      "*** Entered Generate Node ***\n",
      "\n",
      "\n",
      "*** Entered Summarize Node ***\n",
      "\n",
      "The 3 pitchers with the most similar curveballs to Max Scherzer between 2020-08-01 and 2020-08-07 were:\n",
      "\n",
      "1. Josh Smith\n",
      "2. Max Scherzer\n",
      "3. Charlie Morton\n",
      "\n",
      "Here is the code that was used to reach this solution:\n",
      "\n",
      "```python\n",
      "\n",
      "from pybaseball import playerid_lookup, statcast_pitcher\n",
      "import pandas as pd\n",
      "from sklearn.preprocessing import StandardScaler\n",
      "from sklearn.neighbors import NearestNeighbors\n",
      "\n",
      "# Get Max Scherzer's MLBAM ID\n",
      "scherzer_id = playerid_lookup('Scherzer', 'Max')['key_mlbam'][0]\n",
      "print(f\"Max Scherzer's MLBAM ID is: {scherzer_id}\")\n",
      "\n",
      "from pybaseball import playerid_lookup, statcast_pitcher, statcast\n",
      "import pandas as pd\n",
      "from sklearn.preprocessing import StandardScaler  \n",
      "from sklearn.neighbors import NearestNeighbors\n",
      "\n",
      "# Get Max Scherzer's MLBAM ID\n",
      "scherzer_id = playerid_lookup('Scherzer', 'Max')['key_mlbam'][0]\n",
      "\n",
      "# Get all pitches thrown between 2020-08-01 and 2020-08-07 \n",
      "data = statcast('2020-08-01', '2020-08-07')\n",
      "\n",
      "# Filter to only curveballs\n",
      "curveballs = data.loc[data['pitch_type'] == 'CU'] \n",
      "print(f\"Retrieved {len(curveballs)} curveballs between 2020-08-01 and 2020-08-07\")\n",
      "\n",
      "# Select key metrics\n",
      "metrics = ['release_speed', 'release_spin_rate', 'release_pos_x', 'release_pos_z', 'pfx_x', 'pfx_z', 'plate_x', 'plate_z']\n",
      "\n",
      "# Group by pitcher and calculate mean for each metric\n",
      "pitcher_avgs = curveballs.groupby('pitcher')[metrics].mean()\n",
      "\n",
      "print(f\"Created dataframe with curveball averages for {len(pitcher_avgs)} pitchers\")\n",
      "\n",
      "# Scale the data\n",
      "scaler = StandardScaler()\n",
      "scaled_data = scaler.fit_transform(pitcher_avgs)\n",
      "\n",
      "# Get Scherzer's data \n",
      "scherzer_data = pitcher_avgs.loc[scherzer_id]\n",
      "scherzer_scaled = scaler.transform(scherzer_data.values.reshape(1,-1))\n",
      "\n",
      "# Train KNN model\n",
      "model = NearestNeighbors(n_neighbors=3)\n",
      "model.fit(scaled_data)\n",
      "\n",
      "# Find 3 most similar pitchers\n",
      "_, indices = model.kneighbors(scherzer_scaled)\n",
      "similar_pitchers = pitcher_avgs.iloc[indices[0]].index\n",
      "\n",
      "print(\"The 3 pitchers with the most similar curveballs to Max Scherzer are:\")\n",
      "\n",
      "from pybaseball import playerid_reverse_lookup\n",
      "\n",
      "# Get the names of the 3 most similar pitchers\n",
      "similar_names = playerid_reverse_lookup(similar_pitchers)\n",
      "\n",
      "print(\"The 3 pitchers with the most similar curveballs to Max Scherzer between 2020-08-01 and 2020-08-07 were:\")\n",
      "for pitcher_id, row in similar_names.iterrows():\n",
      "    print(f\"{row['name_first']} {row['name_last']} (ID: {pitcher_id})\")\n",
      "```\n",
      "\n",
      "Are you satisfied with this result?\n"
     ]
    }
   ],
   "source": [
    "task = 'approved'\n",
    "result = baseball_lambda.execute_workflow(task, session_id)\n",
    "print(result)"
   ]
  },
  {
   "cell_type": "code",
   "execution_count": 8,
   "id": "d980d14b",
   "metadata": {},
   "outputs": [
    {
     "name": "stdout",
     "output_type": "stream",
     "text": [
      "\n",
      "*** Entered Orchestrate Node ***\n",
      "\n",
      "*** Entered Memorize Node ***\n",
      "\n",
      "Thank you, task has been commited to memory\n"
     ]
    }
   ],
   "source": [
    "task = 'yes'\n",
    "result = baseball_lambda.execute_workflow(task, session_id)\n",
    "print(result)"
   ]
  },
  {
   "cell_type": "code",
   "execution_count": null,
   "id": "2c3d054d",
   "metadata": {},
   "outputs": [],
   "source": []
  }
 ],
 "metadata": {
  "kernelspec": {
   "display_name": "venv",
   "language": "python",
   "name": "python3"
  },
  "language_info": {
   "codemirror_mode": {
    "name": "ipython",
    "version": 3
   },
   "file_extension": ".py",
   "mimetype": "text/x-python",
   "name": "python",
   "nbconvert_exporter": "python",
   "pygments_lexer": "ipython3",
   "version": "3.10.8"
  }
 },
 "nbformat": 4,
 "nbformat_minor": 5
}
