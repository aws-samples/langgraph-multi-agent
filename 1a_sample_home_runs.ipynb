{
 "cells": [
  {
   "cell_type": "code",
   "execution_count": 1,
   "id": "7c01b355-66d2-40e0-92a4-c4553a8d2edd",
   "metadata": {
    "tags": []
   },
   "outputs": [
    {
     "name": "stderr",
     "output_type": "stream",
     "text": [
      "/Users/rosclay/Documents/VSCode/langgraph-multi-agent/venv/lib/python3.10/site-packages/langchain_core/_api/beta_decorator.py:87: LangChainBetaWarning: The function `bind_tools` is in beta. It is actively being worked on, so the API may change.\n",
      "  warn_beta(\n",
      "Python REPL can execute arbitrary code. Use with caution.\n"
     ]
    }
   ],
   "source": [
    "# general\n",
    "from datetime import datetime\n",
    "from dotenv import load_dotenv, find_dotenv\n",
    "import os\n",
    "\n",
    "# custom local libs\n",
    "from function import baseball_lambda"
   ]
  },
  {
   "cell_type": "code",
   "execution_count": 2,
   "id": "7a2a54ab",
   "metadata": {
    "tags": []
   },
   "outputs": [],
   "source": [
    "# read local .env file\n",
    "_ = load_dotenv(find_dotenv())"
   ]
  },
  {
   "cell_type": "code",
   "execution_count": 3,
   "id": "12b6af87",
   "metadata": {
    "tags": []
   },
   "outputs": [],
   "source": [
    "# set Langsmith project\n",
    "today = datetime.now().strftime(\"%Y%m%d\")\n",
    "os.environ[\"LANGCHAIN_PROJECT\"] = f\"Baseball Homeruns - {today}\""
   ]
  },
  {
   "cell_type": "code",
   "execution_count": 4,
   "id": "6bf9b046",
   "metadata": {
    "tags": []
   },
   "outputs": [],
   "source": [
    "session_id = '2165'"
   ]
  },
  {
   "cell_type": "code",
   "execution_count": 5,
   "id": "024b632a",
   "metadata": {
    "tags": []
   },
   "outputs": [
    {
     "name": "stdout",
     "output_type": "stream",
     "text": [
      "\n",
      "*** Entered Orchestrate Node ***\n",
      "\n",
      "*** Entered Retrieve Node ***\n",
      "\n",
      "Distance to neareast plan: 0.0925\n",
      "\n",
      "*** Entered Modify Node ***\n",
      "\n",
      "Modifying nearest plan with User input\n",
      "1. Import the required pybaseball libraries:\n",
      "```python\n",
      "from pybaseball import playerid_lookup, batting_stats_range\n",
      "```\n",
      "\n",
      "2. Look up Derek Jeter's mlbam ID:\n",
      "```python \n",
      "jeter_id = playerid_lookup('jeter', 'derek')['key_mlbam'].values[0]\n",
      "```\n",
      "\n",
      "3. Get Derek Jeter's batting stats for the 2010 season:\n",
      "```python\n",
      "jeter_2010 = batting_stats_range('2010-03-01', '2010-11-30', player_id=jeter_id)\n",
      "```\n",
      "\n",
      "4. Sum the 'HR' column to get the total home runs:\n",
      "```python\n",
      "num_hr = jeter_2010['HR'].sum()\n",
      "print(f\"Derek Jeter hit {num_hr} home runs in the 2010 season.\")\n",
      "```\n",
      "\n",
      "This updated plan uses the batting_stats_range function instead of statcast data, since statcast was not available for the full 2010 season. It sums the 'HR' column from the batting stats to count Jeter's total home runs in 2010.\n"
     ]
    }
   ],
   "source": [
    "task = 'How many home runs did Derek Jeter hit in 2010?' \n",
    "result = baseball_lambda.execute_workflow(task, session_id)\n",
    "print(result)"
   ]
  },
  {
   "cell_type": "code",
   "execution_count": null,
   "id": "0f1729ff",
   "metadata": {},
   "outputs": [],
   "source": [
    "task = \"use the 2008 season instead\"\n",
    "result = baseball_lambda.execute_workflow(task, session_id)\n",
    "print(result)"
   ]
  },
  {
   "cell_type": "code",
   "execution_count": 6,
   "id": "8c9e31b6",
   "metadata": {
    "tags": []
   },
   "outputs": [
    {
     "name": "stdout",
     "output_type": "stream",
     "text": [
      "\n",
      "*** Entered Orchestrate Node ***\n",
      "Known plan. Executing with Sonnet\n",
      "\n",
      "*** Entered Generate Node ***\n",
      "\n",
      "\n",
      "*** Entered Execute Node ***\n",
      "\n",
      "\n",
      "Executing:\n",
      "# Import required libraries\n",
      "from pybaseball import playerid_lookup, batting_stats_range\n",
      "\n",
      "*** Entered Generate Node ***\n",
      "\n",
      "\n",
      "*** Entered Execute Node ***\n",
      "\n",
      "\n",
      "Executing:\n",
      "# Look up Derek Jeter's player ID\n",
      "jeter_id = playerid_lookup('jeter', 'derek')['key_mlbam'].values[0]\n",
      "print(f\"Derek Jeter's player ID is: {jeter_id}\")\n",
      "\n",
      "Result:\n",
      "Gathering player lookup table. This may take a moment.\n",
      "Derek Jeter's player ID is: 116539\n",
      "\n",
      "\n",
      "*** Entered Generate Node ***\n",
      "\n",
      "\n",
      "*** Entered Execute Node ***\n",
      "\n",
      "\n",
      "Executing:\n",
      "# Get Jeter's 2010 batting stats \n",
      "jeter_2010 = batting_stats_range('2010-03-01', '2010-11-30', player_id=116539)\n",
      "\n",
      "Result:\n",
      "TypeError(\"batting_stats_range() got an unexpected keyword argument 'player_id'\")\n",
      "\n",
      "*** Entered Generate Node ***\n",
      "\n",
      "\n",
      "*** Entered Execute Node ***\n",
      "\n",
      "\n",
      "Executing:\n",
      "from pybaseball import batting_stats_range\n",
      "help(batting_stats_range)\n",
      "\n",
      "Result:\n",
      "Help on function batting_stats_range in module pybaseball.league_batting_stats:\n",
      "\n",
      "batting_stats_range(start_dt: Optional[str] = None, end_dt: Optional[str] = None) -> pandas.core.frame.DataFrame\n",
      "    Get all batting stats for a set time range. This can be the past week, the\n",
      "    month of August, anything. Just supply the start and end date in YYYY-MM-DD\n",
      "    format.\n",
      "\n",
      "\n",
      "\n",
      "*** Entered Generate Node ***\n",
      "\n",
      "\n",
      "*** Entered Execute Node ***\n",
      "\n",
      "\n",
      "Executing:\n",
      "# Get all 2010 batting stats\n",
      "all_2010_stats = batting_stats_range('2010-03-01', '2010-11-30')\n",
      "\n",
      "# Filter for just Derek Jeter\n",
      "jeter_2010 = all_2010_stats[all_2010_stats['Name'] == 'Derek Jeter']\n",
      "\n",
      "*** Entered Generate Node ***\n",
      "\n",
      "\n",
      "*** Entered Execute Node ***\n",
      "\n",
      "\n",
      "Executing:\n",
      "# Sum Jeter's HR column to get total HRs\n",
      "num_hr = jeter_2010['HR'].sum()\n",
      "\n",
      "# Print the result\n",
      "print(f\"Derek Jeter hit {num_hr} home runs in the 2010 season.\")\n",
      "\n",
      "Result:\n",
      "Derek Jeter hit 10 home runs in the 2010 season.\n",
      "\n",
      "\n",
      "*** Entered Generate Node ***\n",
      "\n",
      "\n",
      "*** Entered Summarize Node ***\n",
      "\n",
      "Derek Jeter hit 10 home runs in the 2010 MLB season.\n",
      "\n",
      "Here is the code that was used to reach this solution:\n",
      "\n",
      "```python\n",
      "\n",
      "# Import required libraries\n",
      "from pybaseball import playerid_lookup, batting_stats_range\n",
      "\n",
      "# Look up Derek Jeter's player ID\n",
      "jeter_id = playerid_lookup('jeter', 'derek')['key_mlbam'].values[0]\n",
      "print(f\"Derek Jeter's player ID is: {jeter_id}\")\n",
      "\n",
      "from pybaseball import batting_stats_range\n",
      "help(batting_stats_range)\n",
      "\n",
      "# Get all 2010 batting stats\n",
      "all_2010_stats = batting_stats_range('2010-03-01', '2010-11-30')\n",
      "\n",
      "# Filter for just Derek Jeter\n",
      "jeter_2010 = all_2010_stats[all_2010_stats['Name'] == 'Derek Jeter']\n",
      "\n",
      "# Sum Jeter's HR column to get total HRs\n",
      "num_hr = jeter_2010['HR'].sum()\n",
      "\n",
      "# Print the result\n",
      "print(f\"Derek Jeter hit {num_hr} home runs in the 2010 season.\")\n",
      "```\n",
      "\n",
      "Are you satisfied with this result?\n"
     ]
    }
   ],
   "source": [
    "task = 'looks good'\n",
    "result = baseball_lambda.execute_workflow(task, session_id)\n",
    "print(result)"
   ]
  },
  {
   "cell_type": "code",
   "execution_count": 7,
   "id": "6c1ea32a",
   "metadata": {
    "tags": []
   },
   "outputs": [
    {
     "name": "stdout",
     "output_type": "stream",
     "text": [
      "\n",
      "*** Entered Orchestrate Node ***\n",
      "\n",
      "*** Entered Memorize Node ***\n",
      "\n",
      "result\n",
      "(Document(page_content='How many home runs did Derek Jeter hit in 2008?', metadata={'id': 'doc:plans:490dfdfd50d449debd19166419b26a47', 'plan': 'The updated plan to find how many home runs Derek Jeter hit in 2008 using pybaseball is as follows:\\n\\n1. Import the required pybaseball libraries:\\n```python\\nfrom pybaseball import playerid_lookup, statcast_batter\\n```\\n\\n2. Look up Derek Jeter\\'s mlbam ID:\\n```python\\njeter_id = playerid_lookup(\\'jeter\\', \\'derek\\')[\\'key_mlbam\\'].values[0]\\n```\\n\\n3. Get Derek Jeter\\'s statcast batting data for the 2008 season:\\n```python\\njeter_2008 = statcast_batter(\\'2008-03-01\\', \\'2008-11-30\\', player_id=jeter_id)\\n```\\nNote: Statcast was first introduced in 2008, so this should cover the entire 2008 season including spring training, regular season and playoffs.\\n\\n4. Filter the dataframe to only home run events:\\n```python\\njeter_2008_hr = jeter_2008[jeter_2008[\\'events\\'] == \\'home_run\\']\\n```\\n\\n5. Count the number of rows in the filtered dataframe:\\n```python\\nnum_hr = len(jeter_2008_hr)\\nprint(f\"Derek Jeter hit {num_hr} home runs in the 2008 season.\")\\n```\\n\\nThis plan should allow you to find the number of home runs Derek Jeter hit specifically in the 2008 season using the pybaseball statcast data.\\n\\nAre you satisfied with this plan?', 'code': '# Import the required pybaseball libraries\\nfrom pybaseball import playerid_lookup, statcast_batter\\n\\n# Look up Derek Jeter\\'s mlbam ID \\njeter_id = playerid_lookup(\\'jeter\\', \\'derek\\')[\\'key_mlbam\\'].values[0]\\nprint(f\"Derek Jeter\\'s player ID is: {jeter_id}\")\\n\\n# Get Derek Jeter\\'s statcast batting data for the 2008 season\\njeter_2008 = statcast_batter(\\'2008-03-01\\', \\'2008-11-30\\', player_id=jeter_id)\\n\\n# Filter the dataframe to only home run events\\njeter_2008_hr = jeter_2008[jeter_2008[\\'events\\'] == \\'home_run\\']\\n\\n# Count the number of rows in the filtered dataframe to get total home runs\\nnum_hr = len(jeter_2008_hr)\\nprint(f\"Derek Jeter hit {num_hr} home runs in the 2008 season.\")', 'function_detail': 'Text between the <playerid_lookup_documentation></playerid_lookup_documentation> tags is documentation for the playerid_lookup library.  Consult this section to confirm which attributes to pass into the playerid_lookup library.\\n<playerid_lookup_documentation>\\n# Player ID Lookup\\n\\n## Single Player Lookup\\n\\n`playerid_lookup(last, first=None, fuzzy=False)`\\n\\nLook up a player\\'s MLBAM, Retrosheet, FanGraphs, and Baseball Reference ID by name.\\n\\n## Arguments\\n`last:` String. The player\\'s last name. Case insensitive.\\n\\n`first:` String. Optional. The player\\'s first name. Case insensitive.\\n\\n`fuzzy:` Boolean. Optional. Search for inexact name matches, the 5 closest will be returned.\\n\\nProviding last name only will return all available id data for players with that last name (this will return several rows for a common last name like Jones, for example.) If multiple players exist for a (last name, first name) pair, you can figure out who\\'s who by seeing their first and last years of play in the fields `mlb_played_first` and `mlb_played_last`.\\n\\nThis data comes from Chadwick Bureau, meaning that there are several people in this data who are not MLB players. For this reason, supplying both last and first name is recommended to narrow your search. \\n\\n## Examples of valid queries\\n\\n```python\\nfrom pybaseball import playerid_lookup\\n\\n# find the ids of all players with last name Jones (returns 1,314 rows)\\ndata = playerid_lookup(\\'jones\\')\\n\\n# only return the ids of chipper jones (returns one row)\\ndata = playerid_lookup(\\'jones\\',\\'chipper\\')\\n\\n# Will return all players named Pedro Martinez (returns *2* rows)\\ndata = playerid_lookup(\"martinez\", \"pedro\", fuzzy=True)\\n\\n# Will return the 5 closest names to \"yadi molina\" (returns 5 rows)\\n# First row will be Yadier Molina\\ndata = playerid_lookup(\"molina\", \"yadi\", fuzzy=True)\\n```\\n\\n## List Lookup\\n\\n`player_search_list(player_list)`\\n\\nLook up a list of player ID\\'s by name, return a data frame of all players\\n\\n`player_list:` List. A list of tuples, of the form `(last, first)`. Case Insensitive.\\n\\nSources are the same as those used in the above `playerid_lookup` function. Queries for this function must be exact name matches.\\n\\n## Examples of valid queries\\n\\n```python\\n\\nfrom pybaseball import player_search_list\\n\\n# Will return the ids for both Lou Brock and Chipper Jones (returns 2 rows)\\ndata = player_search_list([(\"brock\",\"lou\"), (\"jones\",\"chipper\")])\\n\\n```\\n</playerid_lookup_documentation>\\nText between the <statcast_batter_documentation></statcast_batter_documentation> tags is documentation for the statcast_batter library.  Consult this section to confirm which attributes to pass into the statcast_batter library.\\n<statcast_batter_documentation>\\n# Statcast Batter\\n`statcast_batter(start_dt=[yesterday\\'s date], end_dt=None, player_id)`\\n\\nThe statcast function retrieves pitch-level statcast data for a given date or range or dates. \\n\\n## Arguments\\n`start_dt:` first day for which you want to retrieve data. Defaults to yesterday\\'s date if nothing is entered. If you only want data for one date, supply a `start_dt` value but not an `end_dt` value. Format: YYYY-MM-DD. \\n\\n`end_dt:` last day for which you want to retrieve data. Defaults to None. If you want to retrieve data for more than one day, both a `start_dt` and `end_dt` value must be given. Format: YYYY-MM-DD. \\n\\n`player_id:` MLBAM player ID for the player you want to retrieve data for. To find a player\\'s MLBAM ID, see the function [playerid_lookup](http://github.com/jldbc/pybaseball/docs/playerid_lookup.md) or the examples below. \\n\\n### A note on data availability \\nThe earliest available statcast data comes from the 2008 season when the system was first introduced to Major League Baseball. Queries before this year will not work. Further, some features were introduced after the 2008 season. Launch speed angle, for example, is only available from the 2015 season forward. \\n\\n## Examples of valid queries\\n\\n```python\\nfrom pybaseball import statcast_batter\\nfrom pybaseball import playerid_lookup\\n\\n# find David Ortiz\\'s player id (mlbam_key)\\nplayerid_lookup(\\'ortiz\\',\\'david\\')\\n\\n# get all available data\\ndata = statcast_batter(\\'2008-04-01\\', \\'2017-07-15\\', player_id = 120074)\\n\\n# get data for August 16th, 2014\\ndata = statcast_batter(\\'2014-08-16\\', player_id = 120074)\\n```\\n\\n</statcast_batter_documentation>\\n'}), 0.0925)\n",
      "Thank you, task has been updated in memory\n"
     ]
    }
   ],
   "source": [
    "task = 'yes'\n",
    "result = baseball_lambda.execute_workflow(task, session_id)\n",
    "print(result)"
   ]
  },
  {
   "cell_type": "code",
   "execution_count": null,
   "id": "4ee432c2",
   "metadata": {},
   "outputs": [],
   "source": []
  }
 ],
 "metadata": {
  "kernelspec": {
   "display_name": "venv",
   "language": "python",
   "name": "python3"
  },
  "language_info": {
   "codemirror_mode": {
    "name": "ipython",
    "version": 3
   },
   "file_extension": ".py",
   "mimetype": "text/x-python",
   "name": "python",
   "nbconvert_exporter": "python",
   "pygments_lexer": "ipython3",
   "version": "3.10.8"
  }
 },
 "nbformat": 4,
 "nbformat_minor": 5
}
